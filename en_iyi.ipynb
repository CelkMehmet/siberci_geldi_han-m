{
 "cells": [
  {
   "cell_type": "code",
   "execution_count": 1,
   "metadata": {},
   "outputs": [
    {
     "data": {
      "text/html": [
       "<div>\n",
       "<style scoped>\n",
       "    .dataframe tbody tr th:only-of-type {\n",
       "        vertical-align: middle;\n",
       "    }\n",
       "\n",
       "    .dataframe tbody tr th {\n",
       "        vertical-align: top;\n",
       "    }\n",
       "\n",
       "    .dataframe thead th {\n",
       "        text-align: right;\n",
       "    }\n",
       "</style>\n",
       "<table border=\"1\" class=\"dataframe\">\n",
       "  <thead>\n",
       "    <tr style=\"text-align: right;\">\n",
       "      <th></th>\n",
       "      <th>MAE</th>\n",
       "      <th>MAPE</th>\n",
       "      <th>RMSE</th>\n",
       "      <th>R2</th>\n",
       "    </tr>\n",
       "  </thead>\n",
       "  <tbody>\n",
       "    <tr>\n",
       "      <th>33</th>\n",
       "      <td>0.528185</td>\n",
       "      <td>3.472062</td>\n",
       "      <td>2.374977</td>\n",
       "      <td>0.713844</td>\n",
       "    </tr>\n",
       "    <tr>\n",
       "      <th>3</th>\n",
       "      <td>1.317325</td>\n",
       "      <td>1.018782</td>\n",
       "      <td>1.980918</td>\n",
       "      <td>0.734225</td>\n",
       "    </tr>\n",
       "    <tr>\n",
       "      <th>90</th>\n",
       "      <td>1.501116</td>\n",
       "      <td>3.359640</td>\n",
       "      <td>1.026474</td>\n",
       "      <td>0.847746</td>\n",
       "    </tr>\n",
       "    <tr>\n",
       "      <th>10</th>\n",
       "      <td>1.687588</td>\n",
       "      <td>3.368168</td>\n",
       "      <td>1.755504</td>\n",
       "      <td>0.943230</td>\n",
       "    </tr>\n",
       "  </tbody>\n",
       "</table>\n",
       "</div>"
      ],
      "text/plain": [
       "         MAE      MAPE      RMSE        R2\n",
       "33  0.528185  3.472062  2.374977  0.713844\n",
       "3   1.317325  1.018782  1.980918  0.734225\n",
       "90  1.501116  3.359640  1.026474  0.847746\n",
       "10  1.687588  3.368168  1.755504  0.943230"
      ]
     },
     "execution_count": 1,
     "metadata": {},
     "output_type": "execute_result"
    }
   ],
   "source": [
    "\n",
    "import pandas as pd\n",
    "\n",
    "# Dosyayı yükleme\n",
    "dosya_yolu = 'metrics.xlsx'\n",
    "veri = pd.read_excel(dosya_yolu)\n",
    "\n",
    "# Veriye ilk bakış\n",
    "veri.head()\n",
    "\n",
    "\n",
    "\n",
    "\n",
    "# Boş ve gereksiz sütunları temizleme\n",
    "veri_temiz = veri[['MAE', 'MAPE', 'RMSE', 'R2']].copy()\n",
    "\n",
    "# Her metrik için en iyi performans gösteren değerleri bulma\n",
    "en_iyi_mae = veri_temiz['MAE'].idxmin()\n",
    "en_iyi_mape = veri_temiz['MAPE'].idxmin()\n",
    "en_iyi_rmse = veri_temiz['RMSE'].idxmin()\n",
    "en_iyi_r2 = veri_temiz['R2'].idxmax()\n",
    "\n",
    "# En iyi performans gösteren satırları belirleme\n",
    "en_basarili_satirlar = veri_temiz.loc[[en_iyi_mae, en_iyi_mape, en_iyi_rmse, en_iyi_r2]]\n",
    "\n",
    "en_basarili_satirlar\n"
   ]
  }
 ],
 "metadata": {
  "kernelspec": {
   "display_name": "Python 3",
   "language": "python",
   "name": "python3"
  },
  "language_info": {
   "codemirror_mode": {
    "name": "ipython",
    "version": 3
   },
   "file_extension": ".py",
   "mimetype": "text/x-python",
   "name": "python",
   "nbconvert_exporter": "python",
   "pygments_lexer": "ipython3",
   "version": "3.10.12"
  }
 },
 "nbformat": 4,
 "nbformat_minor": 2
}
